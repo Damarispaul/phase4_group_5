{
 "cells": [
  {
   "cell_type": "markdown",
   "id": "6ffaa9b4",
   "metadata": {},
   "source": [
    "# Apple_Google sentiment Analysis"
   ]
  },
  {
   "cell_type": "markdown",
   "id": "7e410b44",
   "metadata": {},
   "source": [
    "#### Group Members\n",
    "\n",
    "* Damaris Wanjiru\n",
    "* Jane Njuguna\n",
    "* Henry Kemboi\n",
    "* Dennis Muuo\n",
    "* Immaculate Kithei"
   ]
  },
  {
   "cell_type": "markdown",
   "id": "5c25e27d",
   "metadata": {},
   "source": [
    "## Project overview\n",
    "The dataset contains tweets expressing opinions about Apple and Google products or brands, with each tweet classified as either positive, negative or neutral in sentiment. Now as **Group 5** we aims to develop a ML model designed to analyze and classify sentiment in tweets related to Apple and Google products. Leveraging advanced natural language processing techniques, the model will detect emotional tones in tweets. The insights generated will enable stakeholders like Product Management Teams, Marketing Departments, Customer Experience Teams, Business Intelligence Units, and Executive Leadership to make data-driven decisions, refine marketing strategies, enhance customer experiences, and foster product innovation.\n"
   ]
  },
  {
   "cell_type": "markdown",
   "id": "dc6fa6bb",
   "metadata": {},
   "source": [
    "## Business Understanding\n",
    "The focus is on public sentiment in tweets about Apple and Google products and services, providing valuable insights to drive business benefits. It enables these brands to optimize customer satisfaction, pinpoint areas for improvement, monitor brand perception during events like SXSW, and implement strategies to strengthen customer engagement and loyalty, ultimately enhancing their competitive edge and market position.\n",
    "* **Problem Statement:** Developing a robust sentiment analysis model that accurately identifies positive and negative customer sentiments about Apple and Google products on Twitter, with a focus on improving the detection of negative feedback."
   ]
  },
  {
   "cell_type": "markdown",
   "id": "eea69300",
   "metadata": {},
   "source": [
    "## Objectives\n",
    "#### Primary Objective\n",
    "* To create a machine learning model capable of accurately determining the sentiment of a tweet (positive, negative, or neutral) based on its content.\n",
    "#### Secondary Objectives\n",
    "* **Improve Negative Sentiment Detection:** Focus on enhancing recall for better detection of negative feedback.\n",
    "* **Actionable Insights for Stakeholders:** Provide clear, interpretable results to marketing, customer service, and leadership for timely decision-making.\n",
    "* **Regular Tracking:** Monitor sentiment trends and market share of voice for Apple and Google, providing concise brand comparison reports to track changes in consumer perception.\n",
    "\n",
    "\n"
   ]
  },
  {
   "cell_type": "markdown",
   "id": "c83f81ba",
   "metadata": {},
   "source": [
    "## Metrics of Success\n",
    "- **Accuracy:** Ensure the model correctly identifies the sentiment (positive, negative, or neutral) in at least above 90% of tweets, showing how reliable it is overall.\n",
    "- **Precision:** Make sure that when the model labels a tweet as positive or negative, it’s correct over 85% of the time, avoiding false positives.\n",
    "- **Recall:** Focus on capturing as many real negative tweets as possible, reducing the risk of missing critical negative feedback.(85 %)\n",
    "- **F1 Score:** Measure how well the model balances accuracy and completeness. A high (80% - 90%) F1 score means the model is good at correctly identifying sentiments while catching most relevant tweets.\n",
    "- **Sentiment Class Balance:** Ensure the model performs equally well across all sentiment types (positive, negative, and neutral), without favoring one over the others."
   ]
  },
  {
   "cell_type": "markdown",
   "id": "47671aab",
   "metadata": {},
   "source": [
    "# Data Understanding"
   ]
  },
  {
   "cell_type": "markdown",
   "id": "21726d0a",
   "metadata": {},
   "source": [
    "The dataset is sourced from CrowdFlower via Data.World and it ontains 9093 Tweets that have been meticulously annotated by human raters with sentiment labels: positive, negative, or neutral. The data was collected during March, around the time of SXSW event and tweets were filtered by using specific hashtags or keywords.\n",
    "The dataset has 3 columns:\n",
    "\n",
    "\n",
    "**tweet_text:** The actual text of the tweet, which provides insights into what users are saying about Apple and Google products.\n",
    "\n",
    "**emotion_in_tweet_is_directed_at:** The specific product or brand mentioned in the tweet (e.g., iPhone, iPad, Google).\n",
    "\n",
    "**is_there_an_emotion_directed_at_a_brand_or_product:** Indicates whether the tweet expresses:  No emotion toward brand or product, Positive emotion,     Negative emotion, I can't tell. \n",
    "\n"
   ]
  },
  {
   "cell_type": "markdown",
   "id": "82a2d1a2",
   "metadata": {},
   "source": [
    "#### Importing The Relevant Libraries"
   ]
  },
  {
   "cell_type": "code",
   "execution_count": 2,
   "id": "8de454fd",
   "metadata": {},
   "outputs": [
    {
     "name": "stderr",
     "output_type": "stream",
     "text": [
      "[nltk_data] Downloading package wordnet to C:\\Users\\Lilan/nltk_data...\n",
      "[nltk_data]   Package wordnet is already up-to-date!\n",
      "[nltk_data] Downloading package omw-1.4 to C:\\Users\\Lilan/nltk_data...\n",
      "[nltk_data]   Package omw-1.4 is already up-to-date!\n",
      "[nltk_data] Downloading package stopwords to\n",
      "[nltk_data]     C:\\Users\\Lilan/nltk_data...\n",
      "[nltk_data]   Package stopwords is already up-to-date!\n"
     ]
    },
    {
     "data": {
      "text/plain": [
       "True"
      ]
     },
     "execution_count": 2,
     "metadata": {},
     "output_type": "execute_result"
    }
   ],
   "source": [
    "# Standard libraries\n",
    "import pandas as pd\n",
    "import numpy as np\n",
    "import matplotlib.pyplot as plt\n",
    "import seaborn as sns\n",
    "\n",
    "# For text preprocessing\n",
    "import regex as re\n",
    "import string\n",
    "import nltk\n",
    "from nltk.corpus import stopwords\n",
    "from nltk.tokenize import word_tokenize\n",
    "from nltk.stem import WordNetLemmatizer\n",
    "\n",
    "# Machine learning libraries\n",
    "from sklearn.preprocessing import LabelBinarizer\n",
    "from sklearn.metrics import confusion_matrix, accuracy_score, classification_report\n",
    "from sklearn.model_selection import (\n",
    "    GridSearchCV, \n",
    "    StratifiedKFold, \n",
    "    cross_val_score, \n",
    "    train_test_split\n",
    ")\n",
    "from sklearn.feature_extraction.text import CountVectorizer, TfidfVectorizer\n",
    "from sklearn.naive_bayes import MultinomialNB\n",
    "from sklearn.linear_model import LogisticRegression\n",
    "from sklearn.ensemble import RandomForestClassifier\n",
    "from sklearn.neighbors import KNeighborsClassifier\n",
    "from sklearn.svm import SVC\n",
    "from sklearn.pipeline import Pipeline\n",
    "\n",
    "# Deep learning libraries\n",
    "from tensorflow.keras.models import Sequential\n",
    "from tensorflow.keras.layers import Dense, Dropout\n",
    "from tensorflow.keras.utils import to_categorical\n",
    "#from scikeras.wrappers import KerasClassifier\n",
    "\n",
    "# Visualization\n",
    "from wordcloud import WordCloud\n",
    "from textblob import TextBlob\n",
    "\n",
    "# NLTK downloads\n",
    "nltk.download('wordnet')\n",
    "nltk.download('omw-1.4')\n",
    "nltk.download('stopwords')\n"
   ]
  },
  {
   "cell_type": "markdown",
   "id": "11a60c60",
   "metadata": {},
   "source": [
    "####  Loading the Dataset"
   ]
  },
  {
   "cell_type": "code",
   "execution_count": 3,
   "id": "d3ac958b",
   "metadata": {},
   "outputs": [
    {
     "data": {
      "text/html": [
       "<div>\n",
       "<style scoped>\n",
       "    .dataframe tbody tr th:only-of-type {\n",
       "        vertical-align: middle;\n",
       "    }\n",
       "\n",
       "    .dataframe tbody tr th {\n",
       "        vertical-align: top;\n",
       "    }\n",
       "\n",
       "    .dataframe thead th {\n",
       "        text-align: right;\n",
       "    }\n",
       "</style>\n",
       "<table border=\"1\" class=\"dataframe\">\n",
       "  <thead>\n",
       "    <tr style=\"text-align: right;\">\n",
       "      <th></th>\n",
       "      <th>tweet_text</th>\n",
       "      <th>emotion_in_tweet_is_directed_at</th>\n",
       "      <th>is_there_an_emotion_directed_at_a_brand_or_product</th>\n",
       "    </tr>\n",
       "  </thead>\n",
       "  <tbody>\n",
       "    <tr>\n",
       "      <th>0</th>\n",
       "      <td>.@wesley83 I have a 3G iPhone. After 3 hrs twe...</td>\n",
       "      <td>iPhone</td>\n",
       "      <td>Negative emotion</td>\n",
       "    </tr>\n",
       "    <tr>\n",
       "      <th>1</th>\n",
       "      <td>@jessedee Know about @fludapp ? Awesome iPad/i...</td>\n",
       "      <td>iPad or iPhone App</td>\n",
       "      <td>Positive emotion</td>\n",
       "    </tr>\n",
       "    <tr>\n",
       "      <th>2</th>\n",
       "      <td>@swonderlin Can not wait for #iPad 2 also. The...</td>\n",
       "      <td>iPad</td>\n",
       "      <td>Positive emotion</td>\n",
       "    </tr>\n",
       "    <tr>\n",
       "      <th>3</th>\n",
       "      <td>@sxsw I hope this year's festival isn't as cra...</td>\n",
       "      <td>iPad or iPhone App</td>\n",
       "      <td>Negative emotion</td>\n",
       "    </tr>\n",
       "    <tr>\n",
       "      <th>4</th>\n",
       "      <td>@sxtxstate great stuff on Fri #SXSW: Marissa M...</td>\n",
       "      <td>Google</td>\n",
       "      <td>Positive emotion</td>\n",
       "    </tr>\n",
       "  </tbody>\n",
       "</table>\n",
       "</div>"
      ],
      "text/plain": [
       "                                          tweet_text  \\\n",
       "0  .@wesley83 I have a 3G iPhone. After 3 hrs twe...   \n",
       "1  @jessedee Know about @fludapp ? Awesome iPad/i...   \n",
       "2  @swonderlin Can not wait for #iPad 2 also. The...   \n",
       "3  @sxsw I hope this year's festival isn't as cra...   \n",
       "4  @sxtxstate great stuff on Fri #SXSW: Marissa M...   \n",
       "\n",
       "  emotion_in_tweet_is_directed_at  \\\n",
       "0                          iPhone   \n",
       "1              iPad or iPhone App   \n",
       "2                            iPad   \n",
       "3              iPad or iPhone App   \n",
       "4                          Google   \n",
       "\n",
       "  is_there_an_emotion_directed_at_a_brand_or_product  \n",
       "0                                   Negative emotion  \n",
       "1                                   Positive emotion  \n",
       "2                                   Positive emotion  \n",
       "3                                   Negative emotion  \n",
       "4                                   Positive emotion  "
      ]
     },
     "execution_count": 3,
     "metadata": {},
     "output_type": "execute_result"
    }
   ],
   "source": [
    "# Loading the data\n",
    "df = pd.read_csv(\"tweet_data_apple_google.csv\", encoding='latin1')\n",
    "# view the first 5 rows\n",
    "df.head()"
   ]
  },
  {
   "cell_type": "code",
   "execution_count": 4,
   "id": "a34de7ec",
   "metadata": {},
   "outputs": [
    {
     "name": "stdout",
     "output_type": "stream",
     "text": [
      "Our dataset has 9093, Rows and 3 Columns\n"
     ]
    }
   ],
   "source": [
    "# Checking the Dimension of our dataset\n",
    "print(f\"Our dataset has {df.shape[0]}, Rows and {df.shape[1]} Columns\")"
   ]
  },
  {
   "cell_type": "code",
   "execution_count": 5,
   "id": "f70fb969",
   "metadata": {},
   "outputs": [
    {
     "name": "stdout",
     "output_type": "stream",
     "text": [
      "<class 'pandas.core.frame.DataFrame'>\n",
      "RangeIndex: 9093 entries, 0 to 9092\n",
      "Data columns (total 3 columns):\n",
      " #   Column                                              Non-Null Count  Dtype \n",
      "---  ------                                              --------------  ----- \n",
      " 0   tweet_text                                          9092 non-null   object\n",
      " 1   emotion_in_tweet_is_directed_at                     3291 non-null   object\n",
      " 2   is_there_an_emotion_directed_at_a_brand_or_product  9093 non-null   object\n",
      "dtypes: object(3)\n",
      "memory usage: 213.2+ KB\n"
     ]
    }
   ],
   "source": [
    "# Concise summary of the dataset\n",
    "df.info()"
   ]
  },
  {
   "cell_type": "markdown",
   "id": "45f7b651",
   "metadata": {},
   "source": [
    "Based on the summary above, our dataset occupies 213KB of memory and consists of data types as objects, with two columns containing missing values."
   ]
  },
  {
   "cell_type": "markdown",
   "id": "c7436fde",
   "metadata": {},
   "source": [
    "#### Renaming the columns so that it is easy to work with short column names"
   ]
  },
  {
   "cell_type": "code",
   "execution_count": 6,
   "id": "9283fce4",
   "metadata": {},
   "outputs": [
    {
     "name": "stdout",
     "output_type": "stream",
     "text": [
      "Our new column names Index(['Text', 'Item', 'Emotion'], dtype='object')\n"
     ]
    }
   ],
   "source": [
    "# Rename columns in the dataframe\n",
    "column_rename = {\n",
    "    \"tweet_text\" : \"Text\",\n",
    "    'emotion_in_tweet_is_directed_at': 'Item',\n",
    "    'is_there_an_emotion_directed_at_a_brand_or_product': 'Emotion'\n",
    "}\n",
    "df.rename(columns=column_rename, inplace=True)\n",
    "# View the column names\n",
    "print(f\"Our new column names {df.columns}\")"
   ]
  },
  {
   "cell_type": "markdown",
   "id": "a3adec4c",
   "metadata": {},
   "source": [
    "##  Data Cleaning \n",
    "\n",
    "This will follow a step-wise process:\n",
    "\n",
    "* Check for and Handle Missing Values – Remove or fill missing values.\n",
    "* Check for and Drop the Duplicates – Drop duplicate rows."
   ]
  },
  {
   "cell_type": "markdown",
   "id": "11cadcd3",
   "metadata": {},
   "source": [
    "### Checking for and Handling Missing Values"
   ]
  },
  {
   "cell_type": "code",
   "execution_count": 9,
   "id": "2150e33c",
   "metadata": {},
   "outputs": [
    {
     "data": {
      "text/plain": [
       "Text          1\n",
       "Item       5802\n",
       "Emotion       0\n",
       "dtype: int64"
      ]
     },
     "execution_count": 9,
     "metadata": {},
     "output_type": "execute_result"
    }
   ],
   "source": [
    "# Checking for missing \n",
    "df.isna().sum()"
   ]
  },
  {
   "cell_type": "markdown",
   "id": "d48b1b43",
   "metadata": {},
   "source": [
    "Dropping the null in Text column since one record wouldn't have any impact on our analysis"
   ]
  },
  {
   "cell_type": "code",
   "execution_count": 11,
   "id": "d1e99157",
   "metadata": {},
   "outputs": [
    {
     "data": {
      "text/html": [
       "<div>\n",
       "<style scoped>\n",
       "    .dataframe tbody tr th:only-of-type {\n",
       "        vertical-align: middle;\n",
       "    }\n",
       "\n",
       "    .dataframe tbody tr th {\n",
       "        vertical-align: top;\n",
       "    }\n",
       "\n",
       "    .dataframe thead th {\n",
       "        text-align: right;\n",
       "    }\n",
       "</style>\n",
       "<table border=\"1\" class=\"dataframe\">\n",
       "  <thead>\n",
       "    <tr style=\"text-align: right;\">\n",
       "      <th></th>\n",
       "      <th>Text</th>\n",
       "      <th>Item</th>\n",
       "      <th>Emotion</th>\n",
       "    </tr>\n",
       "  </thead>\n",
       "  <tbody>\n",
       "    <tr>\n",
       "      <th>0</th>\n",
       "      <td>.@wesley83 I have a 3G iPhone. After 3 hrs twe...</td>\n",
       "      <td>iPhone</td>\n",
       "      <td>Negative emotion</td>\n",
       "    </tr>\n",
       "    <tr>\n",
       "      <th>1</th>\n",
       "      <td>@jessedee Know about @fludapp ? Awesome iPad/i...</td>\n",
       "      <td>iPad or iPhone App</td>\n",
       "      <td>Positive emotion</td>\n",
       "    </tr>\n",
       "    <tr>\n",
       "      <th>2</th>\n",
       "      <td>@swonderlin Can not wait for #iPad 2 also. The...</td>\n",
       "      <td>iPad</td>\n",
       "      <td>Positive emotion</td>\n",
       "    </tr>\n",
       "    <tr>\n",
       "      <th>3</th>\n",
       "      <td>@sxsw I hope this year's festival isn't as cra...</td>\n",
       "      <td>iPad or iPhone App</td>\n",
       "      <td>Negative emotion</td>\n",
       "    </tr>\n",
       "    <tr>\n",
       "      <th>4</th>\n",
       "      <td>@sxtxstate great stuff on Fri #SXSW: Marissa M...</td>\n",
       "      <td>Google</td>\n",
       "      <td>Positive emotion</td>\n",
       "    </tr>\n",
       "    <tr>\n",
       "      <th>...</th>\n",
       "      <td>...</td>\n",
       "      <td>...</td>\n",
       "      <td>...</td>\n",
       "    </tr>\n",
       "    <tr>\n",
       "      <th>9088</th>\n",
       "      <td>Ipad everywhere. #SXSW {link}</td>\n",
       "      <td>iPad</td>\n",
       "      <td>Positive emotion</td>\n",
       "    </tr>\n",
       "    <tr>\n",
       "      <th>9089</th>\n",
       "      <td>Wave, buzz... RT @mention We interrupt your re...</td>\n",
       "      <td>NaN</td>\n",
       "      <td>No emotion toward brand or product</td>\n",
       "    </tr>\n",
       "    <tr>\n",
       "      <th>9090</th>\n",
       "      <td>Google's Zeiger, a physician never reported po...</td>\n",
       "      <td>NaN</td>\n",
       "      <td>No emotion toward brand or product</td>\n",
       "    </tr>\n",
       "    <tr>\n",
       "      <th>9091</th>\n",
       "      <td>Some Verizon iPhone customers complained their...</td>\n",
       "      <td>NaN</td>\n",
       "      <td>No emotion toward brand or product</td>\n",
       "    </tr>\n",
       "    <tr>\n",
       "      <th>9092</th>\n",
       "      <td>Ï¡Ïàü_ÊÎÒ£Áââ_£â_ÛâRT @...</td>\n",
       "      <td>NaN</td>\n",
       "      <td>No emotion toward brand or product</td>\n",
       "    </tr>\n",
       "  </tbody>\n",
       "</table>\n",
       "<p>9092 rows × 3 columns</p>\n",
       "</div>"
      ],
      "text/plain": [
       "                                                   Text                Item  \\\n",
       "0     .@wesley83 I have a 3G iPhone. After 3 hrs twe...              iPhone   \n",
       "1     @jessedee Know about @fludapp ? Awesome iPad/i...  iPad or iPhone App   \n",
       "2     @swonderlin Can not wait for #iPad 2 also. The...                iPad   \n",
       "3     @sxsw I hope this year's festival isn't as cra...  iPad or iPhone App   \n",
       "4     @sxtxstate great stuff on Fri #SXSW: Marissa M...              Google   \n",
       "...                                                 ...                 ...   \n",
       "9088                      Ipad everywhere. #SXSW {link}                iPad   \n",
       "9089  Wave, buzz... RT @mention We interrupt your re...                 NaN   \n",
       "9090  Google's Zeiger, a physician never reported po...                 NaN   \n",
       "9091  Some Verizon iPhone customers complained their...                 NaN   \n",
       "9092  Ï¡Ïàü_ÊÎÒ£Áââ_£â_ÛâRT @...                 NaN   \n",
       "\n",
       "                                 Emotion  \n",
       "0                       Negative emotion  \n",
       "1                       Positive emotion  \n",
       "2                       Positive emotion  \n",
       "3                       Negative emotion  \n",
       "4                       Positive emotion  \n",
       "...                                  ...  \n",
       "9088                    Positive emotion  \n",
       "9089  No emotion toward brand or product  \n",
       "9090  No emotion toward brand or product  \n",
       "9091  No emotion toward brand or product  \n",
       "9092  No emotion toward brand or product  \n",
       "\n",
       "[9092 rows x 3 columns]"
      ]
     },
     "execution_count": 11,
     "metadata": {},
     "output_type": "execute_result"
    }
   ],
   "source": [
    "# Dropping the missing value in the Text column\n",
    "df = df.dropna(subset=['Text'])\n",
    "# Checking if they are sorted\n",
    "#print(f'The Feature Text has {df['Text'].isna().sum()} missing values')\n",
    "df"
   ]
  },
  {
   "cell_type": "code",
   "execution_count": 12,
   "id": "69a63e8b",
   "metadata": {},
   "outputs": [],
   "source": [
    "#Sorting the missing values in the item column\n",
    "#Filling in the missing values in the Item column depending on mention of the Item in the column 'Text' \n",
    "def extract_item(text):\n",
    "    if isinstance(text, str):\n",
    "        text = text.lower()\n",
    "        # Check for specific brands\n",
    "        if \"iphone\" in text:\n",
    "            return \"iPhone\"\n",
    "        elif \"ipad\" in text:\n",
    "            return \"iPad\"\n",
    "        elif \"apple\" in text:\n",
    "            return \"Apple\"\n",
    "        elif \"google\" in text:\n",
    "            return \"Google\"\n",
    "        elif \"samsung\" in text:\n",
    "            return \"Samsung\"\n",
    "        elif \"microsoft\" in text:\n",
    "            return \"Microsoft\"\n",
    "        elif \"sony\" in text:\n",
    "            return \"Sony\"\n",
    "        elif \"nokia\" in text:\n",
    "            return \"Nokia\"\n",
    "        elif \"huawei\" in text:\n",
    "            return \"Huawei\"\n",
    "        # Return None if no match is found\n",
    "    return 'Unknown'\n"
   ]
  },
  {
   "cell_type": "markdown",
   "id": "4a821ccf",
   "metadata": {},
   "source": [
    "We sorted the missing values in the Item column and filled them based on mentions in the Text column. For entries where no item was mentioned, we marked them as \"Unknown,\" ensuring the dataset was complete and consistent."
   ]
  },
  {
   "cell_type": "code",
   "execution_count": 13,
   "id": "b8a57987",
   "metadata": {},
   "outputs": [],
   "source": [
    "# Applying the function to the item column\n",
    "df['Item'] = df['Item'].fillna(df['Text'].apply(extract_item))"
   ]
  },
  {
   "cell_type": "code",
   "execution_count": 14,
   "id": "bb6c682a",
   "metadata": {},
   "outputs": [
    {
     "name": "stdout",
     "output_type": "stream",
     "text": [
      "We 0 missing values in Item column\n"
     ]
    }
   ],
   "source": [
    "# Confirming that we have dealt with the missing values\n",
    "print(f\"We {df['Item'].isna().sum()} missing values in Item column\")"
   ]
  },
  {
   "cell_type": "code",
   "execution_count": 15,
   "id": "a56a6f1c",
   "metadata": {},
   "outputs": [
    {
     "data": {
      "text/plain": [
       "iPad                               2439\n",
       "Google                             2141\n",
       "Apple                              1371\n",
       "iPhone                             1212\n",
       "Unknown                             954\n",
       "iPad or iPhone App                  470\n",
       "Other Google product or service     293\n",
       "Android App                          81\n",
       "Android                              78\n",
       "Other Apple product or service       35\n",
       "Samsung                              10\n",
       "Nokia                                 6\n",
       "Microsoft                             1\n",
       "Sony                                  1\n",
       "Name: Item, dtype: int64"
      ]
     },
     "execution_count": 15,
     "metadata": {},
     "output_type": "execute_result"
    }
   ],
   "source": [
    "# value counts in Item column\n",
    "df['Item'].value_counts()"
   ]
  },
  {
   "cell_type": "markdown",
   "id": "d36106b1",
   "metadata": {},
   "source": [
    "#### Checking for and Handling Duplicates "
   ]
  },
  {
   "cell_type": "code",
   "execution_count": 16,
   "id": "24aaa998",
   "metadata": {},
   "outputs": [
    {
     "name": "stdout",
     "output_type": "stream",
     "text": [
      "Our dataset has 22 duplicates\n"
     ]
    }
   ],
   "source": [
    "# Checking Duplicates\n",
    "print(f\"Our dataset has {df.duplicated().sum()} duplicates\")"
   ]
  },
  {
   "cell_type": "code",
   "execution_count": 17,
   "id": "ad6151a4",
   "metadata": {},
   "outputs": [
    {
     "name": "stdout",
     "output_type": "stream",
     "text": [
      "We now have 0 duplicates in our dataset\n"
     ]
    }
   ],
   "source": [
    "# Dropping duplicates\n",
    "df = df.drop_duplicates()\n",
    "print(f\"We now have {df.duplicated().sum()} duplicates in our dataset\")"
   ]
  },
  {
   "cell_type": "code",
   "execution_count": 27,
   "id": "cba31219",
   "metadata": {},
   "outputs": [
    {
     "data": {
      "text/plain": [
       "Neutral             5531\n",
       "Positive emotion    2970\n",
       "Negative emotion     569\n",
       "Name: Emotion, dtype: int64"
      ]
     },
     "execution_count": 27,
     "metadata": {},
     "output_type": "execute_result"
    }
   ],
   "source": [
    "# Value counts in Emotion column\n",
    "df['Emotion'].value_counts()"
   ]
  },
  {
   "cell_type": "markdown",
   "id": "2b9f439b",
   "metadata": {},
   "source": [
    "We combined the categories \"No emotion toward brand or product\" and \"I can't tell\" into a single \"Neutral\" category, as both indicate a lack of clear emotional response to the brand or product. Specifically:\n",
    "\n",
    "\"No emotion toward brand or product\" shows no emotional connection.\n",
    "\n",
    "\"I can't tell\" reflects uncertainty about any emotional reaction."
   ]
  },
  {
   "cell_type": "code",
   "execution_count": 29,
   "id": "fb2736e3",
   "metadata": {},
   "outputs": [
    {
     "name": "stderr",
     "output_type": "stream",
     "text": [
      "<ipython-input-29-65c59aaf76b0>:2: SettingWithCopyWarning: \n",
      "A value is trying to be set on a copy of a slice from a DataFrame.\n",
      "Try using .loc[row_indexer,col_indexer] = value instead\n",
      "\n",
      "See the caveats in the documentation: https://pandas.pydata.org/pandas-docs/stable/user_guide/indexing.html#returning-a-view-versus-a-copy\n",
      "  df['Emotion'] = df['Emotion'].replace({\n"
     ]
    },
    {
     "data": {
      "text/html": [
       "<div>\n",
       "<style scoped>\n",
       "    .dataframe tbody tr th:only-of-type {\n",
       "        vertical-align: middle;\n",
       "    }\n",
       "\n",
       "    .dataframe tbody tr th {\n",
       "        vertical-align: top;\n",
       "    }\n",
       "\n",
       "    .dataframe thead th {\n",
       "        text-align: right;\n",
       "    }\n",
       "</style>\n",
       "<table border=\"1\" class=\"dataframe\">\n",
       "  <thead>\n",
       "    <tr style=\"text-align: right;\">\n",
       "      <th></th>\n",
       "      <th>Text</th>\n",
       "      <th>Item</th>\n",
       "      <th>Emotion</th>\n",
       "      <th>Cleaned_Text</th>\n",
       "    </tr>\n",
       "  </thead>\n",
       "  <tbody>\n",
       "    <tr>\n",
       "      <th>0</th>\n",
       "      <td>.@wesley83 I have a 3G iPhone. After 3 hrs twe...</td>\n",
       "      <td>iPhone</td>\n",
       "      <td>Negative emotion</td>\n",
       "      <td>wesley g iphone hr tweeting riseaustin dead ne...</td>\n",
       "    </tr>\n",
       "    <tr>\n",
       "      <th>1</th>\n",
       "      <td>@jessedee Know about @fludapp ? Awesome iPad/i...</td>\n",
       "      <td>iPad or iPhone App</td>\n",
       "      <td>Positive emotion</td>\n",
       "      <td>jessedee know fludapp awesome ipadiphone app y...</td>\n",
       "    </tr>\n",
       "    <tr>\n",
       "      <th>2</th>\n",
       "      <td>@swonderlin Can not wait for #iPad 2 also. The...</td>\n",
       "      <td>iPad</td>\n",
       "      <td>Positive emotion</td>\n",
       "      <td>swonderlin wait ipad also sale sxsw</td>\n",
       "    </tr>\n",
       "    <tr>\n",
       "      <th>3</th>\n",
       "      <td>@sxsw I hope this year's festival isn't as cra...</td>\n",
       "      <td>iPad or iPhone App</td>\n",
       "      <td>Negative emotion</td>\n",
       "      <td>sxsw hope year festival isnt crashy year iphon...</td>\n",
       "    </tr>\n",
       "    <tr>\n",
       "      <th>4</th>\n",
       "      <td>@sxtxstate great stuff on Fri #SXSW: Marissa M...</td>\n",
       "      <td>Google</td>\n",
       "      <td>Positive emotion</td>\n",
       "      <td>sxtxstate great stuff fri sxsw marissa mayer g...</td>\n",
       "    </tr>\n",
       "    <tr>\n",
       "      <th>...</th>\n",
       "      <td>...</td>\n",
       "      <td>...</td>\n",
       "      <td>...</td>\n",
       "      <td>...</td>\n",
       "    </tr>\n",
       "    <tr>\n",
       "      <th>9088</th>\n",
       "      <td>Ipad everywhere. #SXSW {link}</td>\n",
       "      <td>iPad</td>\n",
       "      <td>Positive emotion</td>\n",
       "      <td>ipad everywhere sxsw link</td>\n",
       "    </tr>\n",
       "    <tr>\n",
       "      <th>9089</th>\n",
       "      <td>Wave, buzz... RT @mention We interrupt your re...</td>\n",
       "      <td>Google</td>\n",
       "      <td>Neutral</td>\n",
       "      <td>wave buzz rt mention interrupt regularly sched...</td>\n",
       "    </tr>\n",
       "    <tr>\n",
       "      <th>9090</th>\n",
       "      <td>Google's Zeiger, a physician never reported po...</td>\n",
       "      <td>Google</td>\n",
       "      <td>Neutral</td>\n",
       "      <td>google zeiger physician never reported potenti...</td>\n",
       "    </tr>\n",
       "    <tr>\n",
       "      <th>9091</th>\n",
       "      <td>Some Verizon iPhone customers complained their...</td>\n",
       "      <td>iPhone</td>\n",
       "      <td>Neutral</td>\n",
       "      <td>verizon iphone customer complained time fell b...</td>\n",
       "    </tr>\n",
       "    <tr>\n",
       "      <th>9092</th>\n",
       "      <td>Ï¡Ïàü_ÊÎÒ£Áââ_£â_ÛâRT @...</td>\n",
       "      <td>Google</td>\n",
       "      <td>Neutral</td>\n",
       "      <td>rt mention google test checkin offer sxsw link</td>\n",
       "    </tr>\n",
       "  </tbody>\n",
       "</table>\n",
       "<p>9070 rows × 4 columns</p>\n",
       "</div>"
      ],
      "text/plain": [
       "                                                   Text                Item  \\\n",
       "0     .@wesley83 I have a 3G iPhone. After 3 hrs twe...              iPhone   \n",
       "1     @jessedee Know about @fludapp ? Awesome iPad/i...  iPad or iPhone App   \n",
       "2     @swonderlin Can not wait for #iPad 2 also. The...                iPad   \n",
       "3     @sxsw I hope this year's festival isn't as cra...  iPad or iPhone App   \n",
       "4     @sxtxstate great stuff on Fri #SXSW: Marissa M...              Google   \n",
       "...                                                 ...                 ...   \n",
       "9088                      Ipad everywhere. #SXSW {link}                iPad   \n",
       "9089  Wave, buzz... RT @mention We interrupt your re...              Google   \n",
       "9090  Google's Zeiger, a physician never reported po...              Google   \n",
       "9091  Some Verizon iPhone customers complained their...              iPhone   \n",
       "9092  Ï¡Ïàü_ÊÎÒ£Áââ_£â_ÛâRT @...              Google   \n",
       "\n",
       "               Emotion                                       Cleaned_Text  \n",
       "0     Negative emotion  wesley g iphone hr tweeting riseaustin dead ne...  \n",
       "1     Positive emotion  jessedee know fludapp awesome ipadiphone app y...  \n",
       "2     Positive emotion                swonderlin wait ipad also sale sxsw  \n",
       "3     Negative emotion  sxsw hope year festival isnt crashy year iphon...  \n",
       "4     Positive emotion  sxtxstate great stuff fri sxsw marissa mayer g...  \n",
       "...                ...                                                ...  \n",
       "9088  Positive emotion                          ipad everywhere sxsw link  \n",
       "9089           Neutral  wave buzz rt mention interrupt regularly sched...  \n",
       "9090           Neutral  google zeiger physician never reported potenti...  \n",
       "9091           Neutral  verizon iphone customer complained time fell b...  \n",
       "9092           Neutral     rt mention google test checkin offer sxsw link  \n",
       "\n",
       "[9070 rows x 4 columns]"
      ]
     },
     "execution_count": 29,
     "metadata": {},
     "output_type": "execute_result"
    }
   ],
   "source": [
    "# Replace \"No emotion toward brand or product\" and \"I can't tell\" with \"Neutral\" in the 'Emotion' column\n",
    "df['Emotion'] = df['Emotion'].replace({\n",
    "    'No emotion toward brand or product': 'Neutral',\n",
    "    \"I can't tell\": 'Neutral'\n",
    "})\n",
    "\n",
    "# View the updated 'Emotion' column\n",
    "df['Emotion'].value_counts()\n",
    "df"
   ]
  },
  {
   "cell_type": "markdown",
   "id": "e5c62f7d",
   "metadata": {},
   "source": [
    "### NLP Text Cleaning\n",
    "\n",
    "We clean the text data by performing the following steps:\n",
    "\n",
    "- Converts the text to lowercase to standardize it.\n",
    "- Tokenizes the text using regex to split it into words.\n",
    "- Removes stopwords and non-alphabetic words.\n",
    "- Lemmatizes each word to reduce it to its base form.\n",
    "- The cleaned text is stored in a new column, cleaned_tweet, for further analysis.\n",
    "\n"
   ]
  },
  {
   "cell_type": "code",
   "execution_count": 30,
   "id": "a6c30c00",
   "metadata": {},
   "outputs": [
    {
     "name": "stderr",
     "output_type": "stream",
     "text": [
      "<ipython-input-30-2430998ad8ee>:19: SettingWithCopyWarning: \n",
      "A value is trying to be set on a copy of a slice from a DataFrame.\n",
      "Try using .loc[row_indexer,col_indexer] = value instead\n",
      "\n",
      "See the caveats in the documentation: https://pandas.pydata.org/pandas-docs/stable/user_guide/indexing.html#returning-a-view-versus-a-copy\n",
      "  df['Cleaned_Text'] = df['Text'].apply(preprocess_text)\n"
     ]
    },
    {
     "data": {
      "text/html": [
       "<div>\n",
       "<style scoped>\n",
       "    .dataframe tbody tr th:only-of-type {\n",
       "        vertical-align: middle;\n",
       "    }\n",
       "\n",
       "    .dataframe tbody tr th {\n",
       "        vertical-align: top;\n",
       "    }\n",
       "\n",
       "    .dataframe thead th {\n",
       "        text-align: right;\n",
       "    }\n",
       "</style>\n",
       "<table border=\"1\" class=\"dataframe\">\n",
       "  <thead>\n",
       "    <tr style=\"text-align: right;\">\n",
       "      <th></th>\n",
       "      <th>Text</th>\n",
       "      <th>Item</th>\n",
       "      <th>Emotion</th>\n",
       "      <th>Cleaned_Text</th>\n",
       "    </tr>\n",
       "  </thead>\n",
       "  <tbody>\n",
       "    <tr>\n",
       "      <th>0</th>\n",
       "      <td>.@wesley83 I have a 3G iPhone. After 3 hrs twe...</td>\n",
       "      <td>iPhone</td>\n",
       "      <td>Negative emotion</td>\n",
       "      <td>wesley g iphone hr tweeting riseaustin dead ne...</td>\n",
       "    </tr>\n",
       "    <tr>\n",
       "      <th>1</th>\n",
       "      <td>@jessedee Know about @fludapp ? Awesome iPad/i...</td>\n",
       "      <td>iPad or iPhone App</td>\n",
       "      <td>Positive emotion</td>\n",
       "      <td>jessedee know fludapp awesome ipadiphone app y...</td>\n",
       "    </tr>\n",
       "    <tr>\n",
       "      <th>2</th>\n",
       "      <td>@swonderlin Can not wait for #iPad 2 also. The...</td>\n",
       "      <td>iPad</td>\n",
       "      <td>Positive emotion</td>\n",
       "      <td>swonderlin wait ipad also sale sxsw</td>\n",
       "    </tr>\n",
       "    <tr>\n",
       "      <th>3</th>\n",
       "      <td>@sxsw I hope this year's festival isn't as cra...</td>\n",
       "      <td>iPad or iPhone App</td>\n",
       "      <td>Negative emotion</td>\n",
       "      <td>sxsw hope year festival isnt crashy year iphon...</td>\n",
       "    </tr>\n",
       "    <tr>\n",
       "      <th>4</th>\n",
       "      <td>@sxtxstate great stuff on Fri #SXSW: Marissa M...</td>\n",
       "      <td>Google</td>\n",
       "      <td>Positive emotion</td>\n",
       "      <td>sxtxstate great stuff fri sxsw marissa mayer g...</td>\n",
       "    </tr>\n",
       "    <tr>\n",
       "      <th>...</th>\n",
       "      <td>...</td>\n",
       "      <td>...</td>\n",
       "      <td>...</td>\n",
       "      <td>...</td>\n",
       "    </tr>\n",
       "    <tr>\n",
       "      <th>9088</th>\n",
       "      <td>Ipad everywhere. #SXSW {link}</td>\n",
       "      <td>iPad</td>\n",
       "      <td>Positive emotion</td>\n",
       "      <td>ipad everywhere sxsw link</td>\n",
       "    </tr>\n",
       "    <tr>\n",
       "      <th>9089</th>\n",
       "      <td>Wave, buzz... RT @mention We interrupt your re...</td>\n",
       "      <td>Google</td>\n",
       "      <td>Neutral</td>\n",
       "      <td>wave buzz rt mention interrupt regularly sched...</td>\n",
       "    </tr>\n",
       "    <tr>\n",
       "      <th>9090</th>\n",
       "      <td>Google's Zeiger, a physician never reported po...</td>\n",
       "      <td>Google</td>\n",
       "      <td>Neutral</td>\n",
       "      <td>google zeiger physician never reported potenti...</td>\n",
       "    </tr>\n",
       "    <tr>\n",
       "      <th>9091</th>\n",
       "      <td>Some Verizon iPhone customers complained their...</td>\n",
       "      <td>iPhone</td>\n",
       "      <td>Neutral</td>\n",
       "      <td>verizon iphone customer complained time fell b...</td>\n",
       "    </tr>\n",
       "    <tr>\n",
       "      <th>9092</th>\n",
       "      <td>Ï¡Ïàü_ÊÎÒ£Áââ_£â_ÛâRT @...</td>\n",
       "      <td>Google</td>\n",
       "      <td>Neutral</td>\n",
       "      <td>rt mention google test checkin offer sxsw link</td>\n",
       "    </tr>\n",
       "  </tbody>\n",
       "</table>\n",
       "<p>9070 rows × 4 columns</p>\n",
       "</div>"
      ],
      "text/plain": [
       "                                                   Text                Item  \\\n",
       "0     .@wesley83 I have a 3G iPhone. After 3 hrs twe...              iPhone   \n",
       "1     @jessedee Know about @fludapp ? Awesome iPad/i...  iPad or iPhone App   \n",
       "2     @swonderlin Can not wait for #iPad 2 also. The...                iPad   \n",
       "3     @sxsw I hope this year's festival isn't as cra...  iPad or iPhone App   \n",
       "4     @sxtxstate great stuff on Fri #SXSW: Marissa M...              Google   \n",
       "...                                                 ...                 ...   \n",
       "9088                      Ipad everywhere. #SXSW {link}                iPad   \n",
       "9089  Wave, buzz... RT @mention We interrupt your re...              Google   \n",
       "9090  Google's Zeiger, a physician never reported po...              Google   \n",
       "9091  Some Verizon iPhone customers complained their...              iPhone   \n",
       "9092  Ï¡Ïàü_ÊÎÒ£Áââ_£â_ÛâRT @...              Google   \n",
       "\n",
       "               Emotion                                       Cleaned_Text  \n",
       "0     Negative emotion  wesley g iphone hr tweeting riseaustin dead ne...  \n",
       "1     Positive emotion  jessedee know fludapp awesome ipadiphone app y...  \n",
       "2     Positive emotion                swonderlin wait ipad also sale sxsw  \n",
       "3     Negative emotion  sxsw hope year festival isnt crashy year iphon...  \n",
       "4     Positive emotion  sxtxstate great stuff fri sxsw marissa mayer g...  \n",
       "...                ...                                                ...  \n",
       "9088  Positive emotion                          ipad everywhere sxsw link  \n",
       "9089           Neutral  wave buzz rt mention interrupt regularly sched...  \n",
       "9090           Neutral  google zeiger physician never reported potenti...  \n",
       "9091           Neutral  verizon iphone customer complained time fell b...  \n",
       "9092           Neutral     rt mention google test checkin offer sxsw link  \n",
       "\n",
       "[9070 rows x 4 columns]"
      ]
     },
     "execution_count": 30,
     "metadata": {},
     "output_type": "execute_result"
    }
   ],
   "source": [
    "# Initialize lemmatizer\n",
    "lemmatizer = WordNetLemmatizer()\n",
    "\n",
    "# Function for text preprocessing\n",
    "def preprocess_text(text):\n",
    "    # Convert text to lowercase\n",
    "    text = text.lower()\n",
    "    # Remove special characters and numbers\n",
    "    text = re.sub(r'[^a-z\\s]', '', text)\n",
    "    # Tokenization\n",
    "    tokens = word_tokenize(text)\n",
    "    # Remove stopwords and lemmatize\n",
    "    stop_words = set(stopwords.words('english'))\n",
    "    tokens = [lemmatizer.lemmatize(word) for word in tokens if word not in stop_words]\n",
    "    # Join the cleaned tokens back into a string\n",
    "    return ' '.join(tokens)\n",
    "\n",
    "# Apply preprocessing to the 'Text' column\n",
    "df['Cleaned_Text'] = df['Text'].apply(preprocess_text)\n",
    "df"
   ]
  },
  {
   "cell_type": "markdown",
   "id": "fc3e4448",
   "metadata": {},
   "source": [
    "## Exploratory Data Analysis(EDA)\n",
    "### Univariate Analysis\n"
   ]
  },
  {
   "cell_type": "code",
   "execution_count": 66,
   "id": "4476aa90",
   "metadata": {},
   "outputs": [
    {
     "name": "stdout",
     "output_type": "stream",
     "text": [
      "Collecting pillow\n",
      "  Downloading pillow-10.4.0-cp38-cp38-win_amd64.whl (2.6 MB)\n",
      "Requirement already up-to-date: wordcloud in c:\\users\\lilan\\anaconda3\\envs\\learn-env\\lib\\site-packages (1.9.4)\n",
      "Requirement already satisfied, skipping upgrade: numpy>=1.6.1 in c:\\users\\lilan\\anaconda3\\envs\\learn-env\\lib\\site-packages (from wordcloud) (1.18.5)\n",
      "Requirement already satisfied, skipping upgrade: matplotlib in c:\\users\\lilan\\anaconda3\\envs\\learn-env\\lib\\site-packages (from wordcloud) (3.3.1)\n",
      "Requirement already satisfied, skipping upgrade: kiwisolver>=1.0.1 in c:\\users\\lilan\\anaconda3\\envs\\learn-env\\lib\\site-packages (from matplotlib->wordcloud) (1.2.0)\n",
      "Requirement already satisfied, skipping upgrade: certifi>=2020.06.20 in c:\\users\\lilan\\anaconda3\\envs\\learn-env\\lib\\site-packages (from matplotlib->wordcloud) (2020.6.20)\n",
      "Requirement already satisfied, skipping upgrade: python-dateutil>=2.1 in c:\\users\\lilan\\anaconda3\\envs\\learn-env\\lib\\site-packages (from matplotlib->wordcloud) (2.8.1)\n",
      "Requirement already satisfied, skipping upgrade: cycler>=0.10 in c:\\users\\lilan\\anaconda3\\envs\\learn-env\\lib\\site-packages (from matplotlib->wordcloud) (0.10.0)\n",
      "Requirement already satisfied, skipping upgrade: pyparsing!=2.0.4,!=2.1.2,!=2.1.6,>=2.0.3 in c:\\users\\lilan\\anaconda3\\envs\\learn-env\\lib\\site-packages (from matplotlib->wordcloud) (2.4.7)\n",
      "Requirement already satisfied, skipping upgrade: six>=1.5 in c:\\users\\lilan\\anaconda3\\envs\\learn-env\\lib\\site-packages (from python-dateutil>=2.1->matplotlib->wordcloud) (1.15.0)\n",
      "Installing collected packages: pillow\n",
      "  Attempting uninstall: pillow\n",
      "    Found existing installation: Pillow 8.0.0\n",
      "    Uninstalling Pillow-8.0.0:\n",
      "      Successfully uninstalled Pillow-8.0.0\n",
      "Successfully installed pillow-10.4.0\n"
     ]
    },
    {
     "name": "stderr",
     "output_type": "stream",
     "text": [
      "ERROR: After October 2020 you may experience errors when installing or updating packages. This is because pip will change the way that it resolves dependency conflicts.\n",
      "\n",
      "We recommend you use --use-feature=2020-resolver to test your packages with the new resolver before it becomes the default.\n",
      "\n",
      "fbprophet 0.7.1 requires cmdstanpy==0.9.5, which is not installed.\n"
     ]
    }
   ],
   "source": [
    "!pip install --upgrade pillow wordcloud"
   ]
  },
  {
   "cell_type": "code",
   "execution_count": null,
   "id": "7bad6915",
   "metadata": {},
   "outputs": [],
   "source": [
    "# The word cloud visually highlights the most frequently mentioned words, helping inquick identification of dominant topics in our case is apple and google products\n",
    "# Combining all the text from the 'Text' column into a single string\n",
    "text = \" \".join(df[\"Cleaned_Text\"].astype(str))\n",
    "\n",
    "wordcloud = WordCloud(background_color=\"white\", width=800, height=400).generate(text)\n",
    "plt.figure(figsize=(10, 6))\n",
    "plt.imshow(wordcloud, interpolation=\"bilinear\")\n",
    "plt.axis(\"off\")  \n",
    "plt.title(\"Word Cloud\", fontsize=16, fontweight=\"bold\")\n",
    "plt.show()"
   ]
  },
  {
   "cell_type": "markdown",
   "id": "584420c4",
   "metadata": {},
   "source": [
    "The word cloud emphasizes the significance of the SXSW (South by Southwest) event, which aligns with the period when the data was collected. It also highlights prominent mentions of Apple and Google, two leading technology brands, indicating their central role in the analysis. Frequent references to products like iPad, iPhone, and Google further reflect key topics of discussion, offering valuable context for sentiment analysis and market insights. This information helps stakeholders gain a clearer understanding of the focus areas and trends within the dataset."
   ]
  },
  {
   "cell_type": "markdown",
   "id": "1ee7cc47",
   "metadata": {},
   "source": [
    "### Most Common Occurrences of Each Item"
   ]
  },
  {
   "cell_type": "code",
   "execution_count": 33,
   "id": "0aad6476",
   "metadata": {},
   "outputs": [
    {
     "data": {
      "image/png": "[encoded data removed]",
      "text/plain": [
       "<Figure size 720x432 with 1 Axes>"
      ]
     },
     "metadata": {
      "needs_background": "light"
     },
     "output_type": "display_data"
    }
   ],
   "source": [
    "# Most common occurence of each item\n",
    "item_counts = df['Item'].value_counts()\n",
    "plt.figure(figsize=(10, 6))\n",
    "sns.barplot(x=item_counts.values, y=item_counts.index, palette=\"viridis\", orient='h')\n",
    "plt.title('Most Common Items')\n",
    "plt.xlabel('Count')\n",
    "plt.ylabel('Item')\n",
    "plt.tight_layout()\n",
    "plt.show()"
   ]
  },
  {
   "cell_type": "markdown",
   "id": "310bac85",
   "metadata": {},
   "source": [
    "The visualization shows that iPad, Google, Apple, and iPhone are the most frequently mentioned items in tweets, reflecting their popularity and relevance among users."
   ]
  },
  {
   "cell_type": "markdown",
   "id": "047b6c71",
   "metadata": {},
   "source": [
    "### Distribution of Sentiment"
   ]
  },
  {
   "cell_type": "code",
   "execution_count": 34,
   "id": "387c3444",
   "metadata": {},
   "outputs": [
    {
     "data": {
      "image/png": "[encoded data removed]",
      "text/plain": [
       "<Figure size 720x432 with 1 Axes>"
      ]
     },
     "metadata": {},
     "output_type": "display_data"
    }
   ],
   "source": [
    "# Get the distribution of sentiments\n",
    "Emotion = df['Emotion'].value_counts()\n",
    "palette = sns.color_palette(\"husl\", len(Emotion))\n",
    "plt.figure(figsize=(10, 6))\n",
    "plt.pie(Emotion, labels=Emotion.index, autopct='%1.1f%%', startangle=90, colors=palette, wedgeprops={'edgecolor': 'black'})\n",
    "plt.title('Distribution of Sentiment in Tweets', fontsize=16, fontweight='bold')\n",
    "plt.tight_layout()\n",
    "plt.show()"
   ]
  },
  {
   "cell_type": "markdown",
   "id": "40475258",
   "metadata": {},
   "source": [
    "The visualization reveals that the majority of responses exhibit no emotion toward the brand or product(Neutral) followed by a significant proportion of positive reviews, with negative reviews being the least frequent. This suggests overall neutrality with a leaning toward positivity in customer sentiment."
   ]
  },
  {
   "cell_type": "markdown",
   "id": "dc545a27",
   "metadata": {},
   "source": [
    "### Bivariate Analysis\n",
    "Exploring and analyzing the relationship between two variables. "
   ]
  },
  {
   "cell_type": "markdown",
   "id": "8f0fa548",
   "metadata": {},
   "source": [
    "#### Distribution of Sentiments  by Items"
   ]
  },
  {
   "cell_type": "code",
   "execution_count": 35,
   "id": "58c8fa16",
   "metadata": {},
   "outputs": [
    {
     "data": {
      "image/png": "[encoded data removed]",
      "text/plain": [
       "<Figure size 864x576 with 1 Axes>"
      ]
     },
     "metadata": {
      "needs_background": "light"
     },
     "output_type": "display_data"
    }
   ],
   "source": [
    "# Plot the distribution of emotions by item\n",
    "plt.figure(figsize=(12, 8))\n",
    "sns.countplot(x='Item', hue='Emotion', data=df, palette='Set1')\n",
    "plt.title('Emotion Distribution by Item', fontsize=16, fontweight='bold')\n",
    "plt.xlabel('Item', fontsize=12)\n",
    "plt.ylabel('Count', fontsize=12)\n",
    "plt.xticks(rotation=45, fontsize=10)\n",
    "plt.tight_layout()\n",
    "plt.show()"
   ]
  },
  {
   "cell_type": "markdown",
   "id": "7f4a84da",
   "metadata": {},
   "source": [
    "Analysis reveals that iPad dominates positive sentiments, indicating strong user satisfaction and emotional connection, while Google dominates neutral sentiments, reflecting reliability and utility but less emotional impact. These trends highlight iPad’s appeal for marketing and Google’s potential to enhance emotional engagement."
   ]
  },
  {
   "cell_type": "markdown",
   "id": "58712b54",
   "metadata": {},
   "source": [
    "To streamline our analysis, we grouped Apple products and Google products together under their respective brand categories. This approach aligns with our focus on evaluating the overall performance and sentiment surrounding the Apple and Google brands."
   ]
  },
  {
   "cell_type": "code",
   "execution_count": 36,
   "id": "0d2802f1",
   "metadata": {},
   "outputs": [
    {
     "name": "stdout",
     "output_type": "stream",
     "text": [
      "Apple     5522\n",
      "Google    2578\n",
      "Others     970\n",
      "Name: Brand, dtype: int64\n"
     ]
    },
    {
     "name": "stderr",
     "output_type": "stream",
     "text": [
      "<ipython-input-36-380980c53416>:15: SettingWithCopyWarning: \n",
      "A value is trying to be set on a copy of a slice from a DataFrame.\n",
      "Try using .loc[row_indexer,col_indexer] = value instead\n",
      "\n",
      "See the caveats in the documentation: https://pandas.pydata.org/pandas-docs/stable/user_guide/indexing.html#returning-a-view-versus-a-copy\n",
      "  df['Brand'] = df['Item'].apply(group_brands)\n"
     ]
    }
   ],
   "source": [
    "# A function to group products by brand (Apple, Google, Others)\n",
    "def group_brands(item):\n",
    "    item_lower = item.lower()  # Convert the item to lowercase for easier matching\n",
    "    \n",
    "    # Check if the item belongs to Apple\n",
    "    if 'apple' in item_lower or 'iphone' in item_lower or 'ipad' in item_lower:\n",
    "        return 'Apple'\n",
    "    # Check if the item belongs to Google\n",
    "    elif 'google' in item_lower or 'android' in item_lower:\n",
    "        return 'Google'\n",
    "    else:\n",
    "        return 'Others'\n",
    "\n",
    "# Apply the function to the 'Item' column and create a new 'Brand' column\n",
    "df['Brand'] = df['Item'].apply(group_brands)\n",
    "\n",
    "# Check the new 'Brand' column\n",
    "print(df['Brand'].value_counts())"
   ]
  },
  {
   "cell_type": "code",
   "execution_count": 37,
   "id": "538000a3",
   "metadata": {},
   "outputs": [
    {
     "data": {
      "image/png": "[encoded data removed]",
      "text/plain": [
       "<Figure size 864x576 with 1 Axes>"
      ]
     },
     "metadata": {
      "needs_background": "light"
     },
     "output_type": "display_data"
    }
   ],
   "source": [
    "# countplot to show the distribution of emotions by brand\n",
    "plt.figure(figsize=(12, 8))\n",
    "sns.countplot(x='Brand', hue='Emotion', data=df, palette='Set2')\n",
    "plt.title('Distribution of Emotions by Brand')\n",
    "plt.xlabel('Brand')\n",
    "plt.ylabel('Count')\n",
    "plt.xticks(rotation=45, ha='right')\n",
    "plt.show()"
   ]
  },
  {
   "cell_type": "markdown",
   "id": "3a97b753",
   "metadata": {},
   "source": [
    "Based on the visualization, we can see some interesting patterns in how emotions are associated the brands:\n",
    "\n",
    "**Apple** stands out with the highest number of sentiments labeled as \"No Emotion towards the brand,\" followed by a strong presence of positive sentiments. This suggests that users of Apple products tend to feel more neutral or positive about their experiences.\n",
    "\n",
    "**Google products**, on the other hand, show a more varied emotional distribution, with close representation of \"No emotion toward the product or brand\" and positive emotions, but fewer \"No Emotion toward the product or brand\" sentiment compared to Apple.\n",
    "\n",
    "**Other brands**  generally have fewer sentiments across all emotional categories, indicating less emotional engagement from users.\n",
    "\n",
    "Apple products seem to evoke more neutral or positive feelings, while Google products generate a wider mix of emotions. The rest of the brands, however, don't seem to stir as much emotion overall.\n",
    "\n",
    "\n",
    "\n"
   ]
  },
  {
   "cell_type": "code",
   "execution_count": 38,
   "id": "454cd22c",
   "metadata": {},
   "outputs": [
    {
     "data": {
      "image/png": "[encoded data removed]",
      "text/plain": [
       "<Figure size 576x432 with 2 Axes>"
      ]
     },
     "metadata": {
      "needs_background": "light"
     },
     "output_type": "display_data"
    }
   ],
   "source": [
    "# Create a heatmap to visualize the frequency of product mentions by sentiment\n",
    "emotion_by_product = df.groupby(['Item', 'Emotion']).size().unstack().fillna(0)\n",
    "\n",
    "plt.figure(figsize=(8, 6))\n",
    "sns.heatmap(emotion_by_product, annot=True, fmt='g', cmap='coolwarm', linewidths=0.5)\n",
    "plt.title('Heatmap of Product Mentions vs Sentiment')\n",
    "plt.xlabel('Sentiment')\n",
    "plt.ylabel('Product')\n",
    "plt.show()\n"
   ]
  },
  {
   "cell_type": "markdown",
   "id": "05a807dd",
   "metadata": {},
   "source": [
    "From the visualization-\n",
    "- iPhone: Strong customer satisfaction with the highest positive mentions, while negative feedback is minimal in comparison.\n",
    "- Google: High neutral mentions suggest factual discussions, but significant negative feedback highlights areas for improvement.\n",
    "- Other Products (iPad, Chromebook): Mixed sentiments present opportunities to address negative feedback and improve perception."
   ]
  },
  {
   "cell_type": "code",
   "execution_count": 39,
   "id": "6faeadb8",
   "metadata": {},
   "outputs": [
    {
     "data": {
      "image/png": "[encoded data removed]",
      "text/plain": [
       "<Figure size 720x432 with 2 Axes>"
      ]
     },
     "metadata": {
      "needs_background": "light"
     },
     "output_type": "display_data"
    }
   ],
   "source": [
    "#  pivot table to count occurrences of each Emotion per Brand\n",
    "heatmap_data = df.pivot_table(index='Brand', columns='Emotion', aggfunc='size', fill_value=0)\n",
    "\n",
    "# Plot the heatmap\n",
    "plt.figure(figsize=(10, 6))\n",
    "sns.heatmap(heatmap_data, annot=True, cmap='YlGnBu', fmt='d', linewidths=0.5)\n",
    "plt.title('Heatmap of Sentiment by Brand')\n",
    "plt.xlabel('Sentiment')\n",
    "plt.ylabel('Brand')\n",
    "plt.xticks(rotation=45, ha='right')\n",
    "plt.show()"
   ]
  },
  {
   "cell_type": "markdown",
   "id": "81c0ae33",
   "metadata": {},
   "source": [
    " **Apple:**\n",
    "\n",
    "- Positive Sentiment: Apple has the highest number of positive mentions, reflecting strong customer satisfaction and loyalty.\n",
    "- Negative Sentiment: While Apple also has some negative mentions, they are proportionally lower than its positive sentiment.\n",
    "- Neutral Sentiment: A significant number of neutral mentions indicate widespread discussions about Apple products, not always tied to opinions.\n",
    "\n",
    "**Google:**\n",
    "\n",
    "- Positive Sentiment: Google shows a balanced distribution of positive sentiment, indicating a generally favorable perception.\n",
    "- Negative Sentiment: Google has notable negative mentions, suggesting areas for product or service improvement.\n",
    "\n",
    "- Neutral Sentiment: The high neutral sentiment count implies many users discuss Google factually, possibly regarding features or updates.\n"
   ]
  },
  {
   "cell_type": "markdown",
   "id": "9182025f",
   "metadata": {},
   "source": [
    "### Data Preprocessing\n"
   ]
  },
  {
   "cell_type": "code",
   "execution_count": 40,
   "id": "48d83fef",
   "metadata": {},
   "outputs": [
    {
     "name": "stderr",
     "output_type": "stream",
     "text": [
      "<ipython-input-40-6b6f94bebf12>:2: SettingWithCopyWarning: \n",
      "A value is trying to be set on a copy of a slice from a DataFrame.\n",
      "Try using .loc[row_indexer,col_indexer] = value instead\n",
      "\n",
      "See the caveats in the documentation: https://pandas.pydata.org/pandas-docs/stable/user_guide/indexing.html#returning-a-view-versus-a-copy\n",
      "  df['Emotion_label'] = df['Emotion'].replace({'Neutral' : 0, 'Positive emotion' : 1, 'Negative emotion' : -1})\n"
     ]
    },
    {
     "data": {
      "text/html": [
       "<div>\n",
       "<style scoped>\n",
       "    .dataframe tbody tr th:only-of-type {\n",
       "        vertical-align: middle;\n",
       "    }\n",
       "\n",
       "    .dataframe tbody tr th {\n",
       "        vertical-align: top;\n",
       "    }\n",
       "\n",
       "    .dataframe thead th {\n",
       "        text-align: right;\n",
       "    }\n",
       "</style>\n",
       "<table border=\"1\" class=\"dataframe\">\n",
       "  <thead>\n",
       "    <tr style=\"text-align: right;\">\n",
       "      <th></th>\n",
       "      <th>Text</th>\n",
       "      <th>Item</th>\n",
       "      <th>Emotion</th>\n",
       "      <th>Cleaned_Text</th>\n",
       "      <th>Brand</th>\n",
       "      <th>Emotion_label</th>\n",
       "    </tr>\n",
       "  </thead>\n",
       "  <tbody>\n",
       "    <tr>\n",
       "      <th>0</th>\n",
       "      <td>.@wesley83 I have a 3G iPhone. After 3 hrs twe...</td>\n",
       "      <td>iPhone</td>\n",
       "      <td>Negative emotion</td>\n",
       "      <td>wesley g iphone hr tweeting riseaustin dead ne...</td>\n",
       "      <td>Apple</td>\n",
       "      <td>-1</td>\n",
       "    </tr>\n",
       "    <tr>\n",
       "      <th>1</th>\n",
       "      <td>@jessedee Know about @fludapp ? Awesome iPad/i...</td>\n",
       "      <td>iPad or iPhone App</td>\n",
       "      <td>Positive emotion</td>\n",
       "      <td>jessedee know fludapp awesome ipadiphone app y...</td>\n",
       "      <td>Apple</td>\n",
       "      <td>1</td>\n",
       "    </tr>\n",
       "    <tr>\n",
       "      <th>2</th>\n",
       "      <td>@swonderlin Can not wait for #iPad 2 also. The...</td>\n",
       "      <td>iPad</td>\n",
       "      <td>Positive emotion</td>\n",
       "      <td>swonderlin wait ipad also sale sxsw</td>\n",
       "      <td>Apple</td>\n",
       "      <td>1</td>\n",
       "    </tr>\n",
       "    <tr>\n",
       "      <th>3</th>\n",
       "      <td>@sxsw I hope this year's festival isn't as cra...</td>\n",
       "      <td>iPad or iPhone App</td>\n",
       "      <td>Negative emotion</td>\n",
       "      <td>sxsw hope year festival isnt crashy year iphon...</td>\n",
       "      <td>Apple</td>\n",
       "      <td>-1</td>\n",
       "    </tr>\n",
       "    <tr>\n",
       "      <th>4</th>\n",
       "      <td>@sxtxstate great stuff on Fri #SXSW: Marissa M...</td>\n",
       "      <td>Google</td>\n",
       "      <td>Positive emotion</td>\n",
       "      <td>sxtxstate great stuff fri sxsw marissa mayer g...</td>\n",
       "      <td>Google</td>\n",
       "      <td>1</td>\n",
       "    </tr>\n",
       "    <tr>\n",
       "      <th>...</th>\n",
       "      <td>...</td>\n",
       "      <td>...</td>\n",
       "      <td>...</td>\n",
       "      <td>...</td>\n",
       "      <td>...</td>\n",
       "      <td>...</td>\n",
       "    </tr>\n",
       "    <tr>\n",
       "      <th>9088</th>\n",
       "      <td>Ipad everywhere. #SXSW {link}</td>\n",
       "      <td>iPad</td>\n",
       "      <td>Positive emotion</td>\n",
       "      <td>ipad everywhere sxsw link</td>\n",
       "      <td>Apple</td>\n",
       "      <td>1</td>\n",
       "    </tr>\n",
       "    <tr>\n",
       "      <th>9089</th>\n",
       "      <td>Wave, buzz... RT @mention We interrupt your re...</td>\n",
       "      <td>Google</td>\n",
       "      <td>Neutral</td>\n",
       "      <td>wave buzz rt mention interrupt regularly sched...</td>\n",
       "      <td>Google</td>\n",
       "      <td>0</td>\n",
       "    </tr>\n",
       "    <tr>\n",
       "      <th>9090</th>\n",
       "      <td>Google's Zeiger, a physician never reported po...</td>\n",
       "      <td>Google</td>\n",
       "      <td>Neutral</td>\n",
       "      <td>google zeiger physician never reported potenti...</td>\n",
       "      <td>Google</td>\n",
       "      <td>0</td>\n",
       "    </tr>\n",
       "    <tr>\n",
       "      <th>9091</th>\n",
       "      <td>Some Verizon iPhone customers complained their...</td>\n",
       "      <td>iPhone</td>\n",
       "      <td>Neutral</td>\n",
       "      <td>verizon iphone customer complained time fell b...</td>\n",
       "      <td>Apple</td>\n",
       "      <td>0</td>\n",
       "    </tr>\n",
       "    <tr>\n",
       "      <th>9092</th>\n",
       "      <td>Ï¡Ïàü_ÊÎÒ£Áââ_£â_ÛâRT @...</td>\n",
       "      <td>Google</td>\n",
       "      <td>Neutral</td>\n",
       "      <td>rt mention google test checkin offer sxsw link</td>\n",
       "      <td>Google</td>\n",
       "      <td>0</td>\n",
       "    </tr>\n",
       "  </tbody>\n",
       "</table>\n",
       "<p>9070 rows × 6 columns</p>\n",
       "</div>"
      ],
      "text/plain": [
       "                                                   Text                Item  \\\n",
       "0     .@wesley83 I have a 3G iPhone. After 3 hrs twe...              iPhone   \n",
       "1     @jessedee Know about @fludapp ? Awesome iPad/i...  iPad or iPhone App   \n",
       "2     @swonderlin Can not wait for #iPad 2 also. The...                iPad   \n",
       "3     @sxsw I hope this year's festival isn't as cra...  iPad or iPhone App   \n",
       "4     @sxtxstate great stuff on Fri #SXSW: Marissa M...              Google   \n",
       "...                                                 ...                 ...   \n",
       "9088                      Ipad everywhere. #SXSW {link}                iPad   \n",
       "9089  Wave, buzz... RT @mention We interrupt your re...              Google   \n",
       "9090  Google's Zeiger, a physician never reported po...              Google   \n",
       "9091  Some Verizon iPhone customers complained their...              iPhone   \n",
       "9092  Ï¡Ïàü_ÊÎÒ£Áââ_£â_ÛâRT @...              Google   \n",
       "\n",
       "               Emotion                                       Cleaned_Text  \\\n",
       "0     Negative emotion  wesley g iphone hr tweeting riseaustin dead ne...   \n",
       "1     Positive emotion  jessedee know fludapp awesome ipadiphone app y...   \n",
       "2     Positive emotion                swonderlin wait ipad also sale sxsw   \n",
       "3     Negative emotion  sxsw hope year festival isnt crashy year iphon...   \n",
       "4     Positive emotion  sxtxstate great stuff fri sxsw marissa mayer g...   \n",
       "...                ...                                                ...   \n",
       "9088  Positive emotion                          ipad everywhere sxsw link   \n",
       "9089           Neutral  wave buzz rt mention interrupt regularly sched...   \n",
       "9090           Neutral  google zeiger physician never reported potenti...   \n",
       "9091           Neutral  verizon iphone customer complained time fell b...   \n",
       "9092           Neutral     rt mention google test checkin offer sxsw link   \n",
       "\n",
       "       Brand  Emotion_label  \n",
       "0      Apple             -1  \n",
       "1      Apple              1  \n",
       "2      Apple              1  \n",
       "3      Apple             -1  \n",
       "4     Google              1  \n",
       "...      ...            ...  \n",
       "9088   Apple              1  \n",
       "9089  Google              0  \n",
       "9090  Google              0  \n",
       "9091   Apple              0  \n",
       "9092  Google              0  \n",
       "\n",
       "[9070 rows x 6 columns]"
      ]
     },
     "execution_count": 40,
     "metadata": {},
     "output_type": "execute_result"
    }
   ],
   "source": [
    "#Converting the values in emotion column into integers\n",
    "df['Emotion_label'] = df['Emotion'].replace({'Neutral' : 0, 'Positive emotion' : 1, 'Negative emotion' : -1})\n",
    "df['Emotion_label'].value_counts()\n",
    "df"
   ]
  },
  {
   "cell_type": "markdown",
   "id": "487fc1d6",
   "metadata": {},
   "source": [
    "### Sentiment Analysis\n",
    "Using pre-trained sentiment analysis models to classify text sentiment Comparing sentiment predictions with the existing labels"
   ]
  },
  {
   "cell_type": "code",
   "execution_count": 50,
   "id": "706ce782",
   "metadata": {},
   "outputs": [
    {
     "name": "stdout",
     "output_type": "stream",
     "text": [
      "Requirement already satisfied: textblob in c:\\users\\lilan\\anaconda3\\envs\\learn-env\\lib\\site-packages (0.18.0.post0)\n",
      "Requirement already satisfied: nltk>=3.8 in c:\\users\\lilan\\anaconda3\\envs\\learn-env\\lib\\site-packages (from textblob) (3.9.1)\n",
      "Requirement already satisfied: regex>=2021.8.3 in c:\\users\\lilan\\anaconda3\\envs\\learn-env\\lib\\site-packages (from nltk>=3.8->textblob) (2024.11.6)\n",
      "Requirement already satisfied: click in c:\\users\\lilan\\anaconda3\\envs\\learn-env\\lib\\site-packages (from nltk>=3.8->textblob) (7.1.2)\n",
      "Requirement already satisfied: joblib in c:\\users\\lilan\\anaconda3\\envs\\learn-env\\lib\\site-packages (from nltk>=3.8->textblob) (0.17.0)\n",
      "Requirement already satisfied: tqdm in c:\\users\\lilan\\anaconda3\\envs\\learn-env\\lib\\site-packages (from nltk>=3.8->textblob) (4.50.2)\n"
     ]
    }
   ],
   "source": [
    "!pip install textblob"
   ]
  },
  {
   "cell_type": "code",
   "execution_count": 60,
   "id": "69f01ac6",
   "metadata": {},
   "outputs": [
    {
     "name": "stderr",
     "output_type": "stream",
     "text": [
      "<ipython-input-60-93d242ade865>:14: SettingWithCopyWarning: \n",
      "A value is trying to be set on a copy of a slice from a DataFrame.\n",
      "Try using .loc[row_indexer,col_indexer] = value instead\n",
      "\n",
      "See the caveats in the documentation: https://pandas.pydata.org/pandas-docs/stable/user_guide/indexing.html#returning-a-view-versus-a-copy\n",
      "  df['Cleaned_Text'] = df['Text'].apply(preprocess_text)\n",
      "<ipython-input-60-93d242ade865>:17: SettingWithCopyWarning: \n",
      "A value is trying to be set on a copy of a slice from a DataFrame.\n",
      "Try using .loc[row_indexer,col_indexer] = value instead\n",
      "\n",
      "See the caveats in the documentation: https://pandas.pydata.org/pandas-docs/stable/user_guide/indexing.html#returning-a-view-versus-a-copy\n",
      "  df['Sentiment'] = df['Cleaned_Text'].apply(analyze_sentiment)\n"
     ]
    }
   ],
   "source": [
    "from textblob import TextBlob\n",
    "\n",
    "# Function for sentiment analysis\n",
    "def analyze_sentiment(text):\n",
    "    analysis = TextBlob(text)\n",
    "    if analysis.sentiment.polarity > 0:\n",
    "        return 'Positive'\n",
    "    elif analysis.sentiment.polarity < 0:\n",
    "        return 'Negative'\n",
    "    else:\n",
    "        return 'Neutral'\n",
    "\n",
    "# Apply preprocessing to the 'Text' column\n",
    "df['Cleaned_Text'] = df['Text'].apply(preprocess_text)\n",
    "\n",
    "# Perform sentiment analysis\n",
    "df['Sentiment'] = df['Cleaned_Text'].apply(analyze_sentiment)"
   ]
  },
  {
   "cell_type": "markdown",
   "id": "8dacb21d",
   "metadata": {},
   "source": [
    "### Exploring multiple machine learning models for text classification, including:\n",
    "\n",
    "- Naive Bayes – A strong baseline model for text classification.\n",
    "- Logistic Regression – A popular linear model for binary and multi-class classification.\n",
    "- Support Vector Machine (SVM) – Effective for high-dimensional data.\n",
    "- Random Forest – An ensemble learning method that enhances accuracy.\n"
   ]
  },
  {
   "cell_type": "code",
   "execution_count": 64,
   "id": "40ea3053",
   "metadata": {},
   "outputs": [
    {
     "name": "stdout",
     "output_type": "stream",
     "text": [
      "Count Vectorizer Shape: (9070, 9509)\n",
      "TF-IDF Vectorizer Shape: (9070, 9509)\n"
     ]
    }
   ],
   "source": [
    "# Vectorization using CountVectorizer and TfidfVectorizer\n",
    "count_vectorizer = CountVectorizer()\n",
    "tfidf_vectorizer = TfidfVectorizer()\n",
    "\n",
    "X_count = count_vectorizer.fit_transform(df['Cleaned_Text'])\n",
    "X_tfidf = tfidf_vectorizer.fit_transform(df['Cleaned_Text'])\n",
    "\n",
    "print(\"Count Vectorizer Shape:\", X_count.shape)\n",
    "print(\"TF-IDF Vectorizer Shape:\", X_tfidf.shape)\n",
    "\n",
    "# Splitting the data into training and testing sets\n",
    "X_train, X_test, y_train, y_test = train_test_split(X_tfidf, df['Sentiment'], test_size=0.2, random_state=42)\n",
    "\n",
    "# Train a Naive Bayes classifier\n",
    "model = MultinomialNB()\n",
    "model.fit(X_train, y_train)\n",
    "\n",
    "# Make predictions\n",
    "y_pred = model.predict(X_test)"
   ]
  },
  {
   "cell_type": "code",
   "execution_count": 68,
   "id": "9d38042f",
   "metadata": {},
   "outputs": [
    {
     "name": "stdout",
     "output_type": "stream",
     "text": [
      "Model Accuracy: 0.7976846747519294\n",
      "Classification Report:\n",
      "               precision    recall  f1-score   support\n",
      "\n",
      "    Negative       1.00      0.02      0.03       170\n",
      "     Neutral       0.84      0.83      0.83       770\n",
      "    Positive       0.77      0.92      0.84       874\n",
      "\n",
      "    accuracy                           0.80      1814\n",
      "   macro avg       0.87      0.59      0.57      1814\n",
      "weighted avg       0.82      0.80      0.76      1814\n",
      "\n"
     ]
    }
   ],
   "source": [
    "# Evaluate the model\n",
    "accuracy = accuracy_score(y_test, y_pred)\n",
    "print(\"Model Accuracy:\", accuracy)\n",
    "print(\"Classification Report:\\n\", classification_report(y_test, y_pred))"
   ]
  },
  {
   "cell_type": "code",
   "execution_count": 54,
   "id": "1ddeb401",
   "metadata": {},
   "outputs": [
    {
     "name": "stdout",
     "output_type": "stream",
     "text": [
      "Naive Bayes Accuracy: 0.80\n",
      "Classification Report for Naive Bayes:\n",
      "               precision    recall  f1-score   support\n",
      "\n",
      "    Negative       1.00      0.02      0.03       170\n",
      "     Neutral       0.84      0.83      0.83       770\n",
      "    Positive       0.77      0.92      0.84       874\n",
      "\n",
      "    accuracy                           0.80      1814\n",
      "   macro avg       0.87      0.59      0.57      1814\n",
      "weighted avg       0.82      0.80      0.76      1814\n",
      "\n",
      "Logistic Regression Accuracy: 0.88\n",
      "Classification Report for Logistic Regression:\n",
      "               precision    recall  f1-score   support\n",
      "\n",
      "    Negative       0.93      0.33      0.49       170\n",
      "     Neutral       0.83      0.96      0.89       770\n",
      "    Positive       0.93      0.91      0.92       874\n",
      "\n",
      "    accuracy                           0.88      1814\n",
      "   macro avg       0.90      0.73      0.77      1814\n",
      "weighted avg       0.89      0.88      0.87      1814\n",
      "\n",
      "SVM Accuracy: 0.93\n",
      "Classification Report for SVM:\n",
      "               precision    recall  f1-score   support\n",
      "\n",
      "    Negative       0.90      0.61      0.72       170\n",
      "     Neutral       0.89      0.98      0.94       770\n",
      "    Positive       0.96      0.94      0.95       874\n",
      "\n",
      "    accuracy                           0.93      1814\n",
      "   macro avg       0.92      0.84      0.87      1814\n",
      "weighted avg       0.93      0.93      0.92      1814\n",
      "\n",
      "Random Forest Accuracy: 0.88\n",
      "Classification Report for Random Forest:\n",
      "               precision    recall  f1-score   support\n",
      "\n",
      "    Negative       0.89      0.46      0.61       170\n",
      "     Neutral       0.82      0.99      0.89       770\n",
      "    Positive       0.96      0.87      0.91       874\n",
      "\n",
      "    accuracy                           0.88      1814\n",
      "   macro avg       0.89      0.77      0.81      1814\n",
      "weighted avg       0.89      0.88      0.88      1814\n",
      "\n"
     ]
    }
   ],
   "source": [
    "\n",
    "# Trying different models to find the one with best metrics\n",
    "\n",
    "models = {\n",
    "    \"Naive Bayes\": MultinomialNB(),\n",
    "    \"Logistic Regression\": LogisticRegression(max_iter=1000),\n",
    "    \"SVM\": SVC(kernel='linear'),\n",
    "    \"Random Forest\": RandomForestClassifier(n_estimators=100),\n",
    "}\n",
    "\n",
    "for model_name, model in models.items():\n",
    "    model.fit(X_train, y_train)\n",
    "    y_pred = model.predict(X_test)\n",
    "    accuracy = accuracy_score(y_test, y_pred)\n",
    "    print(f\"{model_name} Accuracy: {accuracy:.2f}\")\n",
    "    print(f\"Classification Report for {model_name}:\\n\", classification_report(y_test, y_pred))\n"
   ]
  },
  {
   "cell_type": "markdown",
   "id": "692576f0",
   "metadata": {},
   "source": [
    "The best performin model is support vector machine(svm)"
   ]
  },
  {
   "cell_type": "markdown",
   "id": "394c66d7",
   "metadata": {},
   "source": [
    "### Hyperparameter Tuning\n",
    "Hyperparameter tuning for the SVM model using GridSearchCV to find the optimal hyperparameters\n"
   ]
  },
  {
   "cell_type": "code",
   "execution_count": 62,
   "id": "765e63f6",
   "metadata": {},
   "outputs": [
    {
     "data": {
      "text/plain": [
       "{'C': 1.0,\n",
       " 'break_ties': False,\n",
       " 'cache_size': 200,\n",
       " 'class_weight': None,\n",
       " 'coef0': 0.0,\n",
       " 'decision_function_shape': 'ovr',\n",
       " 'degree': 3,\n",
       " 'gamma': 'scale',\n",
       " 'kernel': 'linear',\n",
       " 'max_iter': -1,\n",
       " 'probability': False,\n",
       " 'random_state': None,\n",
       " 'shrinking': True,\n",
       " 'tol': 0.001,\n",
       " 'verbose': False}"
      ]
     },
     "execution_count": 62,
     "metadata": {},
     "output_type": "execute_result"
    }
   ],
   "source": [
    "# get the parameters in svm model\n",
    "models[\"SVM\"].get_params()"
   ]
  },
  {
   "cell_type": "code",
   "execution_count": 63,
   "id": "f89c556c",
   "metadata": {},
   "outputs": [
    {
     "name": "stdout",
     "output_type": "stream",
     "text": [
      "Best parameters: {'C': 10, 'class_weight': None, 'gamma': 'scale', 'kernel': 'linear'}\n",
      "Optimized SVM Accuracy: 0.9360529217199559\n",
      "Optimized SVM Classification Report:\n",
      "               precision    recall  f1-score   support\n",
      "\n",
      "    Negative       0.81      0.75      0.78       170\n",
      "     Neutral       0.93      0.98      0.95       770\n",
      "    Positive       0.97      0.94      0.95       874\n",
      "\n",
      "    accuracy                           0.94      1814\n",
      "   macro avg       0.90      0.89      0.89      1814\n",
      "weighted avg       0.94      0.94      0.94      1814\n",
      "\n"
     ]
    }
   ],
   "source": [
    "# Define the hyperparameter grid for SVM\n",
    "\n",
    "param_grid = {\n",
    "    'C': [0.1, 1, 10,100],\n",
    "    'kernel': ['linear', 'rbf', 'poly'],\n",
    "    'gamma': ['scale', 'auto'],\n",
    "    'class_weight': [\"balanced\", None]\n",
    "}\n",
    "\n",
    "# Perform grid search with cross-validation\n",
    "grid_search = GridSearchCV(SVC(), param_grid=param_grid, cv=5, scoring='accuracy', n_jobs=-1)\n",
    "grid_search.fit(X_train, y_train)\n",
    "\n",
    "# Output the best parameters and create the best estimator\n",
    "print(\"Best parameters:\", grid_search.best_params_)\n",
    "best_svm = grid_search.best_estimator_\n",
    "\n",
    "# Evaluate the best SVM model\n",
    "y_pred = best_svm.predict(X_test)\n",
    "print(\"Optimized SVM Accuracy:\", accuracy_score(y_test, y_pred))\n",
    "print(\"Optimized SVM Classification Report:\\n\", classification_report(y_test, y_pred))"
   ]
  },
  {
   "cell_type": "markdown",
   "id": "a16e6dc6",
   "metadata": {},
   "source": [
    "### Cross-Validation and Model Selection\n",
    "Stratified K-Fold Cross-Validation is used for better model evaluation. This technique ensures that each fold preserves the percentage of samples for each class, leading to a more reliable estimate of model performance. The mean cross-validation accuracy is printed along with individual scores."
   ]
  },
  {
   "cell_type": "code",
   "execution_count": 58,
   "id": "2adf9196",
   "metadata": {},
   "outputs": [
    {
     "name": "stdout",
     "output_type": "stream",
     "text": [
      "Best parameters: {'C': 10, 'class_weight': None, 'gamma': 'scale', 'kernel': 'linear'}\n",
      "Cross-Validation Accuracy Scores: [0.93936053 0.93880926 0.93550165 0.93770673 0.94101433]\n",
      "Mean Cross-Validation Accuracy: 0.9384785005512679\n",
      "Optimized SVM Accuracy: 0.9360529217199559\n",
      "Optimized SVM Classification Report:\n",
      "               precision    recall  f1-score   support\n",
      "\n",
      "    Negative       0.81      0.75      0.78       170\n",
      "     Neutral       0.93      0.98      0.95       770\n",
      "    Positive       0.97      0.94      0.95       874\n",
      "\n",
      "    accuracy                           0.94      1814\n",
      "   macro avg       0.90      0.89      0.89      1814\n",
      "weighted avg       0.94      0.94      0.94      1814\n",
      "\n"
     ]
    }
   ],
   "source": [
    "# Hyperparameter tuning for SVM\n",
    "param_grid = {\n",
    "    'C': [0.1, 1, 10, 100],\n",
    "    'kernel': ['linear', 'rbf', 'poly', \"\"],\n",
    "    'gamma': ['scale', 'auto'],\n",
    "    'class_weight': [\"balanced\", None]\n",
    "}\n",
    "grid_search = GridSearchCV(SVC(), param_grid=param_grid, cv=5, scoring='accuracy', n_jobs=-1)\n",
    "grid_search.fit(X_train, y_train)\n",
    "\n",
    "print(\"Best parameters:\", grid_search.best_params_)\n",
    "best_svm = grid_search.best_estimator_\n",
    "\n",
    "# Perform Stratified K-Fold Cross-Validation\n",
    "skf = StratifiedKFold(n_splits=5, shuffle=True, random_state=42)\n",
    "cross_val_scores = cross_val_score(best_svm, X_tfidf, df['Sentiment'], cv=skf, scoring='accuracy')\n",
    "print(\"Cross-Validation Accuracy Scores:\", cross_val_scores)\n",
    "print(\"Mean Cross-Validation Accuracy:\", cross_val_scores.mean())\n",
    "\n",
    "# Evaluate best SVM model\n",
    "y_pred = best_svm.predict(X_test)\n",
    "print(\"Optimized SVM Accuracy:\", accuracy_score(y_test, y_pred))\n",
    "print(\"Optimized SVM Classification Report:\\n\", classification_report(y_test, y_pred))\n"
   ]
  },
  {
   "cell_type": "markdown",
   "id": "7998ef81",
   "metadata": {},
   "source": [
    "Best Parameters:\n",
    "The optimized SVM uses C=10, class_weight=balanced, gamma=scale, and a linear kernel.\n",
    "\n",
    "Cross-Validation Performance:\n",
    "The model achieved a mean accuracy of 93.61% across folds, with scores ranging from 93.98% to 94.10%.\n",
    "\n",
    "Test Accuracy:\n",
    "The final accuracy on the test set is 93.66%.\n",
    "\n",
    "Classification Highlights:\n",
    "\n",
    "Negative: Precision 81%, Recall 75%, F1 78%\n",
    "\n",
    "Neutral: Precision 93%, Recall 98%, F1 95%\n",
    "\n",
    "Positive: Precision 97%, Recall 94%, F1 95%\n",
    "\n",
    "Overall Accuracy: 94%\n",
    "\n",
    "The model performs exceptionally well for Neutral and Positive categories but struggles slightly with the Negative class, particularly in recall.\n",
    "\n"
   ]
  },
  {
   "cell_type": "code",
   "execution_count": 47,
   "id": "b6066c02",
   "metadata": {},
   "outputs": [
    {
     "data": {
      "image/png": "[encoded data removed]",
      "text/plain": [
       "<Figure size 576x432 with 2 Axes>"
      ]
     },
     "metadata": {
      "needs_background": "light"
     },
     "output_type": "display_data"
    }
   ],
   "source": [
    "conf_matrix = confusion_matrix(y_test, y_pred)\n",
    "plt.figure(figsize=(8, 6))\n",
    "sns.heatmap(conf_matrix, annot=True, fmt='d', cmap='Blues')\n",
    "plt.title('Confusion Matrix')\n",
    "plt.xlabel('Predicted')\n",
    "plt.ylabel('Actual')\n",
    "plt.show()\n"
   ]
  },
  {
   "cell_type": "markdown",
   "id": "bc157177",
   "metadata": {},
   "source": [
    "Hyperparameter tuning for SVM with different kernels and increased cross-validation splits to get better generalization.\n"
   ]
  },
  {
   "cell_type": "code",
   "execution_count": 69,
   "id": "fb7a5c90",
   "metadata": {},
   "outputs": [
    {
     "name": "stdout",
     "output_type": "stream",
     "text": [
      "Best parameters: {'C': 10, 'class_weight': 'balanced', 'gamma': 'scale', 'kernel': 'linear'}\n",
      "Cross-Validation Accuracy Scores: [0.93936053 0.94266814 0.94707828 0.94377067 0.94597574 0.9415656\n",
      " 0.95038589 0.94377067 0.94266814 0.94928335]\n",
      "Mean Cross-Validation Accuracy: 0.9446527012127893\n"
     ]
    }
   ],
   "source": [
    "# Hyperparameter tuning for SVM with more kernel options\n",
    "param_grid = {\n",
    "    'C': [0.1, 1, 10],\n",
    "    'kernel': ['linear', 'rbf', 'poly', 'sigmoid'],\n",
    "    'gamma': ['scale', 'auto'],\n",
    "    'class_weight': [\"balanced\"]\n",
    "    \n",
    "}\n",
    "\n",
    "grid_search = GridSearchCV(SVC(), param_grid, cv=10, scoring='accuracy', n_jobs=-1)\n",
    "grid_search.fit(X_train, y_train)\n",
    "\n",
    "print(\"Best parameters:\", grid_search.best_params_)\n",
    "best_svm = grid_search.best_estimator_\n",
    "\n",
    "# Perform Stratified K-Fold Cross-Validation with increased splits\n",
    "skf = StratifiedKFold(n_splits=10, shuffle=True, random_state=42)\n",
    "cross_val_scores = cross_val_score(best_svm, X_tfidf, df['Sentiment'], cv=skf, scoring='accuracy')\n",
    "print(\"Cross-Validation Accuracy Scores:\", cross_val_scores)\n",
    "print(\"Mean Cross-Validation Accuracy:\", cross_val_scores.mean())\n"
   ]
  },
  {
   "cell_type": "code",
   "execution_count": 70,
   "id": "5d1b77db",
   "metadata": {},
   "outputs": [
    {
     "data": {
      "image/png": "[encoded data removed]",
      "text/plain": [
       "<Figure size 576x432 with 2 Axes>"
      ]
     },
     "metadata": {
      "needs_background": "light"
     },
     "output_type": "display_data"
    }
   ],
   "source": [
    "# Confusion Matrix\n",
    "conf_matrix = confusion_matrix(y_test, y_pred)\n",
    "plt.figure(figsize=(8, 6))\n",
    "sns.heatmap(conf_matrix, annot=True, fmt='d', cmap='Blues')\n",
    "plt.title('Confusion Matrix')\n",
    "plt.xlabel('Predicted')\n",
    "plt.ylabel('Actual')\n",
    "plt.show()"
   ]
  },
  {
   "cell_type": "markdown",
   "id": "e33b1d34",
   "metadata": {},
   "source": [
    "The model correctly classified 636 instances, but 134 instances were misclassified as Class 2.\n",
    "The model also correctly classified 808 instances, with only 66 misclassified as Class 1."
   ]
  },
  {
   "cell_type": "markdown",
   "id": "462732ce",
   "metadata": {},
   "source": [
    "### Visualizing the effect of different hyperparameters on model accuracy:"
   ]
  },
  {
   "cell_type": "code",
   "execution_count": 71,
   "id": "a622240e",
   "metadata": {},
   "outputs": [
    {
     "data": {
      "image/png": "[encoded data removed]",
      "text/plain": [
       "<Figure size 720x432 with 1 Axes>"
      ]
     },
     "metadata": {
      "needs_background": "light"
     },
     "output_type": "display_data"
    }
   ],
   "source": [
    "results = pd.DataFrame(grid_search.cv_results_)\n",
    "plt.figure(figsize=(10, 6))\n",
    "plt.plot(results['param_C'], results['mean_test_score'], marker='o')\n",
    "plt.xlabel('C (Regularization Parameter)')\n",
    "plt.ylabel('Mean Accuracy')\n",
    "plt.title('Hyperparameter Tuning of SVM')\n",
    "plt.grid()\n",
    "plt.show()"
   ]
  },
  {
   "cell_type": "markdown",
   "id": "01cea05b",
   "metadata": {},
   "source": [
    "The optimal value of C seems to be around 1-2, where the accuracy is highest and stable.\n",
    "A very small C leads to underfitting, and a very large C can result in overfitting with high variance."
   ]
  },
  {
   "cell_type": "markdown",
   "id": "172c1145",
   "metadata": {},
   "source": [
    "###  Recommendation\n",
    "- Google’s Neutral Sentiment: A significant proportion of neutral sentiment toward Google products suggests room to build excitement through more engaging marketing strategies.\n",
    "- Recurring Issues for Google: Neutral or negative sentiment tweets for Google often mention usability issues. Develop targeted support initiatives or FAQs addressing these concerns to preemptively mitigate dissatisfaction.\n",
    "- Apple’s Opportunities: While Apple has strong positive sentiment, monitor any emerging concerns to maintain its leading market position.\n"
   ]
  },
  {
   "cell_type": "markdown",
   "id": "c555447b",
   "metadata": {},
   "source": [
    "### Conclusion \n",
    "Our analysis highlights valuable opportunities for both Apple and Google. Apple can build on its strong positive sentiment to reinforce its market leadership while staying ahead of emerging concerns. Meanwhile, Google has the chance to close sentiment gaps—especially around neutral and usability-related feedback—by implementing more engaging marketing and targeted support initiatives. The SVM model has demonstrated strong performance in detecting neutral and positive sentiments, making it the most reliable choice for immediate application to drive meaningful improvements.\n"
   ]
  },
  {
   "cell_type": "markdown",
   "id": "afb77e4c",
   "metadata": {},
   "source": [
    "### Next step/ Model Deployment\n",
    "Deploy the model with a robust monitoring system to continuously track key metrics, such as accuracy and recall for the Negative class, ensuring sustained performance. Implement alerts to quickly identify and address any significant drifts or anomalies in predictions."
   ]
  },
  {
   "cell_type": "code",
   "execution_count": null,
   "id": "7a83c5bb",
   "metadata": {},
   "outputs": [],
   "source": []
  }
 ],
 "metadata": {
  "kernelspec": {
   "display_name": "Python 3 (ipykernel)",
   "language": "python",
   "name": "python3"
  },
  "language_info": {
   "codemirror_mode": {
    "name": "ipython",
    "version": 3
   },
   "file_extension": ".py",
   "mimetype": "text/x-python",
   "name": "python",
   "nbconvert_exporter": "python",
   "pygments_lexer": "ipython3",
   "version": "3.12.4"
  }
 },
 "nbformat": 4,
 "nbformat_minor": 5
}
